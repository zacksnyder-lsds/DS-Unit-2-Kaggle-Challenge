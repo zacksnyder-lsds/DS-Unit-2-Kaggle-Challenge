{
 "cells": [
  {
   "cell_type": "code",
   "execution_count": 1,
   "metadata": {},
   "outputs": [],
   "source": [
    "%%capture\n",
    "import sys\n",
    "\n",
    "# If you're on Colab:\n",
    "if 'google.colab' in sys.modules:\n",
    "    DATA_PATH = 'https://raw.githubusercontent.com/LambdaSchool/DS-Unit-2-Kaggle-Challenge/master/data/'\n",
    "    !pip install category_encoders==2.*\n",
    "\n",
    "# If you're working locally:\n",
    "else:\n",
    "    DATA_PATH = 'Users\\zacks\\Documents\\dspt7-predictive-modeling-challenge'"
   ]
  },
  {
   "cell_type": "code",
   "execution_count": 2,
   "metadata": {},
   "outputs": [],
   "source": [
    "import pandas as pd\n",
    "\n",
    "# Merge train_features.csv & train_labels.csv\n",
    "train = pd.merge(pd.read_csv(r'C:\\Users\\zacks\\Documents\\dspt7-predictive-modeling-challenge\\train_features.csv'), \n",
    "                 pd.read_csv(r'C:\\Users\\zacks\\Documents\\dspt7-predictive-modeling-challenge\\train_labels.csv'))\n",
    "\n",
    "# Read test_features.csv & sample_submission.csv\n",
    "test = pd.read_csv(r'C:\\Users\\zacks\\Documents\\dspt7-predictive-modeling-challenge\\test_features.csv')\n",
    "sample_submission = pd.read_csv(r'C:\\Users\\zacks\\Documents\\dspt7-predictive-modeling-challenge\\sample_submission.csv')"
   ]
  },
  {
   "cell_type": "code",
   "execution_count": 3,
   "metadata": {},
   "outputs": [],
   "source": [
    "import numpy as np\n",
    "def wrangle(df):\n",
    "  df = df.copy()\n",
    "\n",
    "  #getting rid of close to zeros in the latitude\n",
    "  df['latitude'] = df['latitude'].replace(-2e-08, 0)\n",
    "\n",
    "  #replacing zeros in columns with nan so they can be imputed later\n",
    "  zero_cols = ['longitude', 'latitude', 'construction_year', 'gps_height', 'population']\n",
    "  for col in zero_cols:\n",
    "    df[col] = df[col].replace(0, np.nan)\n",
    "    df[col+'_missing'] = df[col].isnull()\n",
    "\n",
    "  #getting rid of columns that don't give me any real information\n",
    "  duplicates = ['quantity_group', 'payment_type']\n",
    "  df = df.drop(columns=duplicates)\n",
    "\n",
    "  unusable_variance = ['recorded_by', 'id']\n",
    "  df = df.drop(columns=unusable_variance)\n",
    "\n",
    "  #getting the time recorded into datetime then splitting into components \n",
    "  df['date_recorded'] = pd.to_datetime(df['date_recorded'], infer_datetime_format=True)\n",
    "\n",
    "  df['year_recorded'] = df['date_recorded'].dt.year\n",
    "  df['month_recorded'] = df['date_recorded'].dt.month\n",
    "  df['day_recorded'] = df['date_recorded'].dt.day\n",
    "  df = df.drop(columns='date_recorded')\n",
    "\n",
    "  #How many years since the pump was constructed\n",
    "  df['years'] = df['year_recorded'] - df['construction_year']\n",
    "  df['years_missing'] = df['years'].isnull()\n",
    "\n",
    "  return df\n",
    "\n",
    "train = wrangle(train)\n",
    "test = wrangle(test)"
   ]
  },
  {
   "cell_type": "code",
   "execution_count": 4,
   "metadata": {},
   "outputs": [],
   "source": [
    "#running my pipeline and cross validation to tune hyper parameters\n",
    "#imports \n",
    "from category_encoders.ordinal import OrdinalEncoder\n",
    "from sklearn.impute import SimpleImputer\n",
    "from sklearn.model_selection import cross_val_score\n",
    "from sklearn.pipeline import make_pipeline\n",
    "from sklearn.preprocessing import StandardScaler\n",
    "from sklearn.model_selection import RandomizedSearchCV\n",
    "from sklearn.ensemble import RandomForestClassifier\n",
    "from scipy.stats import randint\n"
   ]
  },
  {
   "cell_type": "code",
   "execution_count": null,
   "metadata": {},
   "outputs": [],
   "source": []
  },
  {
   "cell_type": "code",
   "execution_count": 15,
   "metadata": {},
   "outputs": [],
   "source": [
    "\n",
    "target = 'status_group'\n",
    "train_features = train.drop(columns=target)\n",
    "numeric_features = train_features.select_dtypes(include='number').columns.tolist()\n",
    "cardinality = train_features.select_dtypes(exclude='number').nunique()\n",
    "categorical_features = cardinality[cardinality <= 50].index.tolist()\n",
    "features = numeric_features + categorical_features\n",
    "X_train = train[features]\n",
    "y_train = train[target]\n",
    "X_test = test[features]\n",
    "pipeline = make_pipeline(\n",
    "    OrdinalEncoder(cols=categorical_features), \n",
    "    SimpleImputer(), \n",
    "    RandomForestClassifier(random_state=42, n_jobs= -1)\n",
    ")\n",
    "\n",
    "param_distributions = {   \n",
    "    'simpleimputer__strategy': ['mean', 'median'],\n",
    "    'randomforestclassifier__class_weight': ['balanced', None],\n",
    "    'randomforestclassifier__max_depth': [5,10,15,20, None],\n",
    "    'randomforestclassifier__n_estimators': randint(50,500),\n",
    "    'randomforestclassifier__min_samples_leaf' : [None, 5,10,15,30],\n",
    "    'randomforestclassifier__max_features': [None, 2,10,20,30]\n",
    "}"
   ]
  },
  {
   "cell_type": "code",
   "execution_count": 6,
   "metadata": {},
   "outputs": [],
   "source": [
    "\n",
    "search = RandomizedSearchCV(\n",
    "    pipeline,\n",
    "    param_distributions=param_distributions,\n",
    "    n_iter=10,\n",
    "    cv=5,\n",
    "    scoring='accuracy',\n",
    "    verbose=10,\n",
    "    return_train_score=True,\n",
    "    n_jobs=-1\n",
    ")\n",
    "\n"
   ]
  },
  {
   "cell_type": "code",
   "execution_count": 7,
   "metadata": {},
   "outputs": [
    {
     "name": "stdout",
     "output_type": "stream",
     "text": [
      "Fitting 5 folds for each of 10 candidates, totalling 50 fits\n"
     ]
    },
    {
     "name": "stderr",
     "output_type": "stream",
     "text": [
      "[Parallel(n_jobs=-1)]: Using backend LokyBackend with 8 concurrent workers.\n",
      "[Parallel(n_jobs=-1)]: Done   2 tasks      | elapsed:  3.2min\n",
      "[Parallel(n_jobs=-1)]: Done   9 tasks      | elapsed:  4.4min\n",
      "[Parallel(n_jobs=-1)]: Done  16 tasks      | elapsed:  4.9min\n",
      "[Parallel(n_jobs=-1)]: Done  25 tasks      | elapsed:  6.1min\n",
      "[Parallel(n_jobs=-1)]: Done  34 tasks      | elapsed:  8.5min\n",
      "[Parallel(n_jobs=-1)]: Done  41 out of  50 | elapsed: 10.3min remaining:  2.2min\n",
      "[Parallel(n_jobs=-1)]: Done  47 out of  50 | elapsed: 10.8min remaining:   41.2s\n",
      "[Parallel(n_jobs=-1)]: Done  50 out of  50 | elapsed: 10.8min finished\n"
     ]
    },
    {
     "data": {
      "text/plain": [
       "RandomizedSearchCV(cv=5, error_score=nan,\n",
       "                   estimator=Pipeline(memory=None,\n",
       "                                      steps=[('ordinalencoder',\n",
       "                                              OrdinalEncoder(cols=['basin',\n",
       "                                                                   'region',\n",
       "                                                                   'public_meeting',\n",
       "                                                                   'scheme_management',\n",
       "                                                                   'permit',\n",
       "                                                                   'extraction_type',\n",
       "                                                                   'extraction_type_group',\n",
       "                                                                   'extraction_type_class',\n",
       "                                                                   'management',\n",
       "                                                                   'management_group',\n",
       "                                                                   'payment',\n",
       "                                                                   'water_quality',\n",
       "                                                                   'quality_group',\n",
       "                                                                   'quantity',\n",
       "                                                                   'source',\n",
       "                                                                   'source_ty...\n",
       "                                        'randomforestclassifier__max_features': [None,\n",
       "                                                                                 2,\n",
       "                                                                                 10,\n",
       "                                                                                 20,\n",
       "                                                                                 30],\n",
       "                                        'randomforestclassifier__min_samples_leaf': [None,\n",
       "                                                                                     5,\n",
       "                                                                                     10,\n",
       "                                                                                     15,\n",
       "                                                                                     30],\n",
       "                                        'randomforestclassifier__n_estimators': <scipy.stats._distn_infrastructure.rv_frozen object at 0x0000016F658F7EC8>,\n",
       "                                        'simpleimputer__strategy': ['mean',\n",
       "                                                                    'median']},\n",
       "                   pre_dispatch='2*n_jobs', random_state=None, refit=True,\n",
       "                   return_train_score=True, scoring='accuracy', verbose=10)"
      ]
     },
     "execution_count": 7,
     "metadata": {},
     "output_type": "execute_result"
    }
   ],
   "source": [
    "search.fit(X_train, y_train)"
   ]
  },
  {
   "cell_type": "code",
   "execution_count": 13,
   "metadata": {},
   "outputs": [
    {
     "data": {
      "text/plain": [
       "0.7954882154882155"
      ]
     },
     "execution_count": 13,
     "metadata": {},
     "output_type": "execute_result"
    }
   ],
   "source": [
    "search.best_score_"
   ]
  },
  {
   "cell_type": "code",
   "execution_count": 19,
   "metadata": {},
   "outputs": [],
   "source": [
    "pipeline2 = search "
   ]
  },
  {
   "cell_type": "code",
   "execution_count": 20,
   "metadata": {},
   "outputs": [],
   "source": [
    "y_pred = pipeline2.predict(X_test)\n",
    "\n",
    "DATA_PATH = 'https://raw.githubusercontent.com/LambdaSchool/DS-Unit-2-Kaggle-Challenge/master/data/'\n",
    "sample_submission = pd.read_csv(DATA_PATH+'waterpumps/sample_submission.csv')\n",
    "submission = sample_submission.copy()\n",
    "submission['status_group'] = y_pred\n",
    "submission.to_csv('WP_attempt_two.csv', index=False)"
   ]
  },
  {
   "cell_type": "code",
   "execution_count": null,
   "metadata": {},
   "outputs": [],
   "source": []
  }
 ],
 "metadata": {
  "kernelspec": {
   "display_name": "Python 3",
   "language": "python",
   "name": "python3"
  },
  "language_info": {
   "codemirror_mode": {
    "name": "ipython",
    "version": 3
   },
   "file_extension": ".py",
   "mimetype": "text/x-python",
   "name": "python",
   "nbconvert_exporter": "python",
   "pygments_lexer": "ipython3",
   "version": "3.7.6"
  }
 },
 "nbformat": 4,
 "nbformat_minor": 4
}
